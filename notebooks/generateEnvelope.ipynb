{
 "cells": [
  {
   "cell_type": "code",
   "execution_count": 1,
   "outputs": [],
   "source": [
    "import re\n",
    "import tensorflow as tf\n",
    "import os\n",
    "import librosa\n",
    "import numpy as np\n",
    "import xml.etree.ElementTree as ET\n",
    "import pandas as pd\n",
    "import matplotlib.pyplot as plt\n",
    "\n",
    "\n",
    "from tensorflow import keras\n",
    "from scipy.signal import hilbert"
   ],
   "metadata": {
    "collapsed": false,
    "pycharm": {
     "name": "#%%\n"
    }
   }
  },
  {
   "cell_type": "markdown",
   "source": [
    "##Prepare Data"
   ],
   "metadata": {
    "collapsed": false
   }
  },
  {
   "cell_type": "code",
   "execution_count": null,
   "outputs": [],
   "source": [],
   "metadata": {
    "collapsed": false,
    "pycharm": {
     "name": "#%%\n"
    }
   }
  },
  {
   "cell_type": "code",
   "execution_count": null,
   "outputs": [],
   "source": [
    "# Set the path to the full UrbanSound dataset\n",
    "fulldatasetpath = \"I://Synth1PresetTestFiles\"\n",
    "\n",
    "features = []\n",
    "\n",
    "\n",
    "\n",
    "dirFiles = os.listdir(\"I://Synth1PresetTestFiles\")\n",
    "dirFiles.sort(key=lambda f: int(re.sub('\\D', '', f)))\n",
    "\n",
    "def getEnvelope(filename):\n",
    "    audio1, samplerate = librosa.load(fileName, res_type=\"kaiser_fast\", duration=5)\n",
    "    env1 = np.abs(hilbert(audio1) )\n",
    "    return env1\n",
    "env = []\n",
    "audio = []\n",
    "value = 0\n",
    "for file in dirFiles:\n",
    "#    if value == 1:\n",
    "#        break\n",
    "    if \"xml\" in file:\n",
    "        sampleNumber = int(file.split(\".\")[0][4:])\n",
    "        tempName = file.split(\".\")[0] + \".wav\"\n",
    "        fileName = os.path.join(os.path.abspath(fulldatasetpath), tempName)\n",
    "        tree = ET.parse(os.path.join(os.path.abspath(fulldatasetpath), file))\n",
    "        root = tree.getroot()\n",
    "        classlabels = []\n",
    "        for x in range(99):\n",
    "            classlabels.append(int(root[x + 2].attrib[\"presetValue\"]))\n",
    "#        classLabel = int(root[value + 2].attrib[\"presetValue\"])\n",
    "        data = getEnvelope(fileName)[::100]\n",
    "        env = data\n",
    "\n",
    "        features.append([data, classlabels])\n",
    "        value = value + 1\n",
    "#       print(\"Appended \" + fileName + \" Class = \" + str(classlabels) + \" SampleNumber = \" + str(sampleNumber))\n",
    "\n",
    "del dirFiles\n",
    "print(\"All Data Appended\")\n",
    "\n",
    "featuresdf = pd.DataFrame(features, columns=['feature', 'class_label'])\n",
    "del features\n",
    "# Convert features and corresponding classification labels into numpy arrays\n",
    "featureArray = np.array(featuresdf.feature.tolist())\n",
    "valueArray = np.array(featuresdf.class_label.tolist())\n",
    "\n",
    "del featuresdf\n",
    "\n",
    "# split the dataset\n",
    "from sklearn.model_selection import train_test_split\n",
    "del tree, root\n"
   ],
   "metadata": {
    "collapsed": false,
    "pycharm": {
     "name": "#%%\n",
     "is_executing": true
    }
   }
  },
  {
   "cell_type": "code",
   "execution_count": null,
   "outputs": [],
   "source": [
    "featureArray.dump(\"I://EnvelopeDiv100.dat\")"
   ],
   "metadata": {
    "collapsed": false,
    "pycharm": {
     "name": "#%%\n"
    }
   }
  },
  {
   "cell_type": "code",
   "execution_count": 6,
   "outputs": [
    {
     "name": "stdout",
     "output_type": "stream",
     "text": [
      "All Data Appended\n"
     ]
    }
   ],
   "source": [
    "# Set the path to the full UrbanSound dataset\n",
    "fulldatasetpath = \"I://Synth1PresetTestFiles\"\n",
    "\n",
    "features = []\n",
    "\n",
    "\n",
    "\n",
    "dirFiles = os.listdir(\"I://Synth1PresetTestFiles\")\n",
    "dirFiles.sort(key=lambda f: int(re.sub('\\D', '', f)))\n",
    "\n",
    "def getEnvelope(filename):\n",
    "    audio1, samplerate = librosa.load(fileName, res_type=\"kaiser_fast\", duration=5)\n",
    "    env1 = np.abs(hilbert(audio1) )\n",
    "    return env1, audio1\n",
    "env = []\n",
    "audio = []\n",
    "value = 0\n",
    "for file in dirFiles:\n",
    "    if value == 1:\n",
    "        break\n",
    "    if \"xml\" in file:\n",
    "        sampleNumber = int(file.split(\".\")[0][4:])\n",
    "        tempName = file.split(\".\")[0] + \".wav\"\n",
    "        fileName = os.path.join(os.path.abspath(fulldatasetpath), tempName)\n",
    "        tree = ET.parse(os.path.join(os.path.abspath(fulldatasetpath), file))\n",
    "        root = tree.getroot()\n",
    "        classlabels = []\n",
    "        for x in range(99):\n",
    "            classlabels.append(int(root[x + 2].attrib[\"presetValue\"]))\n",
    "#        classLabel = int(root[value + 2].attrib[\"presetValue\"])\n",
    "        data, audio = getEnvelope(fileName)\n",
    "        env = data\n",
    "\n",
    "        features.append([data, classlabels])\n",
    "        value = value + 1\n",
    "#       print(\"Appended \" + fileName + \" Class = \" + str(classlabels) + \" SampleNumber = \" + str(sampleNumber))\n",
    "\n",
    "del dirFiles\n",
    "print(\"All Data Appended\")\n",
    "\n",
    "featuresdf = pd.DataFrame(features, columns=['feature', 'class_label'])\n",
    "del features\n",
    "# Convert features and corresponding classification labels into numpy arrays\n",
    "featureArray = np.array(featuresdf.feature.tolist())\n",
    "valueArray = np.array(featuresdf.class_label.tolist())\n",
    "\n",
    "del featuresdf\n",
    "\n",
    "# split the dataset\n",
    "from sklearn.model_selection import train_test_split\n",
    "del tree, root\n"
   ],
   "metadata": {
    "collapsed": false,
    "pycharm": {
     "name": "#%%\n"
    }
   }
  },
  {
   "cell_type": "code",
   "execution_count": 17,
   "outputs": [
    {
     "data": {
      "text/plain": "<Figure size 432x288 with 1 Axes>",
      "image/png": "[encoded data removed]"
     },
     "metadata": {
      "needs_background": "light"
     },
     "output_type": "display_data"
    }
   ],
   "source": [
    "env10 = env[::100]\n",
    "audio10 = audio[::100]\n",
    "numb = len(audio)\n",
    "time = np.linspace(0, len(audio) / 22050, num=len(audio))\n",
    "plt.plot(env10, label='signal')\n",
    "plt.plot(audio10, label='envelope')\n",
    "plt.show()\n"
   ],
   "metadata": {
    "collapsed": false,
    "pycharm": {
     "name": "#%%\n"
    }
   }
  }
 ],
 "metadata": {
  "kernelspec": {
   "display_name": "Python 3",
   "language": "python",
   "name": "python3"
  },
  "language_info": {
   "codemirror_mode": {
    "name": "ipython",
    "version": 2
   },
   "file_extension": ".py",
   "mimetype": "text/x-python",
   "name": "python",
   "nbconvert_exporter": "python",
   "pygments_lexer": "ipython2",
   "version": "2.7.6"
  }
 },
 "nbformat": 4,
 "nbformat_minor": 0
}